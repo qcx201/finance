{
 "cells": [
  {
   "cell_type": "code",
   "execution_count": 2,
   "id": "dutch-essay",
   "metadata": {},
   "outputs": [],
   "source": [
    "from finance import yahoo, rates\n",
    "from finance import helpers as hlp\n",
    "\n",
    "import pandas as pd\n",
    "import numpy as np\n",
    "from datetime import datetime as dt"
   ]
  },
  {
   "cell_type": "code",
   "execution_count": 3,
   "id": "stunning-consensus",
   "metadata": {},
   "outputs": [],
   "source": [
    "treasury = rates.Treasury()\n",
    "\n",
    "maturities = rates.maturity_periods.values()\n",
    "maturities = np.array(list(maturities))\n",
    "\n",
    "def find_nearest(array, value):\n",
    "    idx = (np.abs(array - value)).argmin()\n",
    "    return array[idx]"
   ]
  },
  {
   "cell_type": "code",
   "execution_count": 4,
   "id": "deluxe-attempt",
   "metadata": {},
   "outputs": [],
   "source": [
    "class Portfolio:\n",
    "    \n",
    "    def __init__(self, data=None,\n",
    "                 tickers=['AAPL', 'AMZN', 'TSLA','SPY']):\n",
    "        '''\n",
    "        Set up portfolio\n",
    "        '''\n",
    "        \n",
    "        if not data:\n",
    "            \n",
    "            data  = [yahoo.Ticker(ticker).price for ticker in tickers]\n",
    "            multi_cols = pd.MultiIndex.from_product([tickers, data[0].columns])\n",
    "            \n",
    "            data = pd.concat(data, axis=1, join=\"inner\")\n",
    "            data.columns = multi_cols\n",
    "        \n",
    "        self.price = data\n",
    "    \n",
    "    def __repr__(self):\n",
    "        \n",
    "        return 'Portfolio Data Object'\n",
    "    \n",
    "    def pct_change(self, periods=1, **kwargs):\n",
    "        \n",
    "        '''\n",
    "        Return percentage change for all stocks\n",
    "        '''\n",
    "\n",
    "        df = self.adj_price.copy()\n",
    "\n",
    "        # original index\n",
    "        index = df.index\n",
    "\n",
    "        start, end = df.index[[0, -1]]\n",
    "        date_range = pd.date_range(start=start, end=end, freq='D')\n",
    "        df = df.reindex(date_range, method='backfill')\n",
    "\n",
    "        # percentage change\n",
    "        df = df.pct_change(periods, **kwargs)\n",
    "\n",
    "        # return with original \n",
    "        df = df.reindex(index).dropna()\n",
    "\n",
    "        return df"
   ]
  },
  {
   "cell_type": "code",
   "execution_count": 7,
   "id": "quality-details",
   "metadata": {},
   "outputs": [],
   "source": [
    "def excess_returns(self, periods, **kwargs):\n",
    "    '''\n",
    "    Return data\n",
    "    '''\n",
    "\n",
    "    pct_change = self.pct_change(periods, **kwargs)\n",
    "\n",
    "    maturity = find_nearest(maturities, periods)\n",
    "\n",
    "    riskfree = treasury.riskfree[str(maturity)].dropna()\n",
    "\n",
    "    pct_change.sub(riskfree)\n"
   ]
  }
 ],
 "metadata": {
  "kernelspec": {
   "display_name": "Python 3",
   "language": "python",
   "name": "python3"
  },
  "language_info": {
   "codemirror_mode": {
    "name": "ipython",
    "version": 3
   },
   "file_extension": ".py",
   "mimetype": "text/x-python",
   "name": "python",
   "nbconvert_exporter": "python",
   "pygments_lexer": "ipython3",
   "version": "3.8.5"
  }
 },
 "nbformat": 4,
 "nbformat_minor": 5
}
